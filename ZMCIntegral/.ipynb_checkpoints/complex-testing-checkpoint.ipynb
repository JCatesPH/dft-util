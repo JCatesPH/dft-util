{
 "cells": [
  {
   "cell_type": "code",
   "execution_count": 1,
   "metadata": {},
   "outputs": [],
   "source": [
    "import math\n",
    "from numba import cuda\n",
    "import ZMCIntegral\n",
    "import numpy as np"
   ]
  },
  {
   "cell_type": "code",
   "execution_count": 2,
   "metadata": {},
   "outputs": [],
   "source": [
    "def foo(x1, x2):\n",
    "    return complex(x1,x2)\n"
   ]
  },
  {
   "cell_type": "code",
   "execution_count": 8,
   "metadata": {},
   "outputs": [],
   "source": [
    "@cuda.jit(device=True)\n",
    "def f_real(y):\n",
    "    val = foo(y[0], y[1])\n",
    "    realval = val.real\n",
    "    return val\n",
    "\n",
    "@cuda.jit(device=True)\n",
    "def f_imag(y):\n",
    "    val = foo(y[0], y[1])\n",
    "    imagval = val.imag\n",
    "    return val\n"
   ]
  },
  {
   "cell_type": "code",
   "execution_count": 9,
   "metadata": {},
   "outputs": [],
   "source": [
    "\n",
    "MC_real = ZMCIntegral.MCintegral(f_real,[[0,1],[0,1]])\n",
    "\n",
    "# Setting the zmcintegral parameters\n",
    "MC_real.depth = 2\n",
    "MC_real.sigma_multiplication = 4\n",
    "MC_real.num_trials = 3\n",
    "MC_real.available_GPU=[0]\n",
    "\n",
    "MC_imag = ZMCIntegral.MCintegral(f_imag,[[0,1],[0,1]])\n",
    "\n",
    "# Setting the zmcintegral parameters\n",
    "MC_imag.depth = 2\n",
    "MC_imag.sigma_multiplication = 4\n",
    "MC_imag.num_trials = 3\n",
    "MC_imag.available_GPU=[0]"
   ]
  },
  {
   "cell_type": "code",
   "execution_count": 10,
   "metadata": {},
   "outputs": [
    {
     "name": "stdout",
     "output_type": "stream",
     "text": [
      "\n",
      "========================================================\n",
      "\n",
      "depth =  2\n",
      "sigma_multiplication =  4\n",
      "num_trials =  3\n",
      "available_GPU =  [0]\n",
      "\n",
      "========================================================\n"
     ]
    }
   ],
   "source": [
    "print('\\n========================================================')\n",
    "print('\\ndepth = ', MC_real.depth)\n",
    "print('sigma_multiplication = ', MC_real.sigma_multiplication)\n",
    "print('num_trials = ', MC_real.num_trials)\n",
    "print('available_GPU = ', MC_real.available_GPU)\n",
    "print('\\n========================================================')"
   ]
  },
  {
   "cell_type": "code",
   "execution_count": 11,
   "metadata": {},
   "outputs": [
    {
     "name": "stderr",
     "output_type": "stream",
     "text": [
      "Process Process-6:\n",
      "Traceback (most recent call last):\n",
      "  File \"/home/jalenc/.conda/envs/ZMCIntegral/lib/python3.6/multiprocessing/process.py\", line 258, in _bootstrap\n",
      "    self.run()\n",
      "  File \"/home/jalenc/.conda/envs/ZMCIntegral/lib/python3.6/multiprocessing/process.py\", line 93, in run\n",
      "    self._target(*self._args, **self._kwargs)\n",
      "  File \"/home/jalenc/github/my-phys-util/ZMCIntegral/ZMCIntegral.py\", line 111, in multi_processing\n",
      "    result.append(self.MCkernel(domain, i_batch))\n",
      "  File \"/home/jalenc/github/my-phys-util/ZMCIntegral/ZMCIntegral.py\", line 373, in MCkernel\n",
      "    integration_kernel[blockspergrid, threadsperblock](num_loops,                                                           MCresult,                                                           chunk_size,                                                           n_chunk_x,                                                           domain,                                                           domain_range,                                                           batch_size,                                                           i_batch,                                                           rng_states,                                                           n_chunk)\n",
      "  File \"/home/jalenc/.conda/envs/ZMCIntegral/lib/python3.6/site-packages/numba/cuda/compiler.py\", line 765, in __call__\n",
      "    kernel = self.specialize(*args)\n",
      "  File \"/home/jalenc/.conda/envs/ZMCIntegral/lib/python3.6/site-packages/numba/cuda/compiler.py\", line 776, in specialize\n",
      "    kernel = self.compile(argtypes)\n",
      "  File \"/home/jalenc/.conda/envs/ZMCIntegral/lib/python3.6/site-packages/numba/cuda/compiler.py\", line 792, in compile\n",
      "    **self.targetoptions)\n",
      "  File \"/home/jalenc/.conda/envs/ZMCIntegral/lib/python3.6/site-packages/numba/compiler_lock.py\", line 32, in _acquire_compile_lock\n",
      "    return func(*args, **kwargs)\n",
      "  File \"/home/jalenc/.conda/envs/ZMCIntegral/lib/python3.6/site-packages/numba/cuda/compiler.py\", line 62, in compile_kernel\n",
      "    cres = compile_cuda(pyfunc, types.void, args, debug=debug, inline=inline)\n",
      "  File \"/home/jalenc/.conda/envs/ZMCIntegral/lib/python3.6/site-packages/numba/compiler_lock.py\", line 32, in _acquire_compile_lock\n",
      "    return func(*args, **kwargs)\n",
      "  File \"/home/jalenc/.conda/envs/ZMCIntegral/lib/python3.6/site-packages/numba/cuda/compiler.py\", line 51, in compile_cuda\n",
      "    locals={})\n",
      "  File \"/home/jalenc/.conda/envs/ZMCIntegral/lib/python3.6/site-packages/numba/compiler.py\", line 941, in compile_extra\n",
      "    return pipeline.compile_extra(func)\n",
      "  File \"/home/jalenc/.conda/envs/ZMCIntegral/lib/python3.6/site-packages/numba/compiler.py\", line 372, in compile_extra\n",
      "    return self._compile_bytecode()\n",
      "  File \"/home/jalenc/.conda/envs/ZMCIntegral/lib/python3.6/site-packages/numba/compiler.py\", line 872, in _compile_bytecode\n",
      "    return self._compile_core()\n",
      "  File \"/home/jalenc/.conda/envs/ZMCIntegral/lib/python3.6/site-packages/numba/compiler.py\", line 859, in _compile_core\n",
      "    res = pm.run(self.status)\n",
      "  File \"/home/jalenc/.conda/envs/ZMCIntegral/lib/python3.6/site-packages/numba/compiler_lock.py\", line 32, in _acquire_compile_lock\n",
      "    return func(*args, **kwargs)\n",
      "  File \"/home/jalenc/.conda/envs/ZMCIntegral/lib/python3.6/site-packages/numba/compiler.py\", line 253, in run\n",
      "    raise patched_exception\n",
      "  File \"/home/jalenc/.conda/envs/ZMCIntegral/lib/python3.6/site-packages/numba/compiler.py\", line 244, in run\n",
      "    stage()\n",
      "  File \"/home/jalenc/.conda/envs/ZMCIntegral/lib/python3.6/site-packages/numba/compiler.py\", line 500, in stage_nopython_frontend\n",
      "    self.locals)\n",
      "  File \"/home/jalenc/.conda/envs/ZMCIntegral/lib/python3.6/site-packages/numba/compiler.py\", line 1044, in type_inference_stage\n",
      "    infer.propagate()\n",
      "  File \"/home/jalenc/.conda/envs/ZMCIntegral/lib/python3.6/site-packages/numba/typeinfer.py\", line 861, in propagate\n",
      "    raise errors[0]\n",
      "numba.errors.TypingError: Failed in nopython mode pipeline (step: nopython frontend)\n",
      "Invalid use of Function(<numba.cuda.compiler.DeviceFunctionTemplate object at 0x7f74781eedd8>) with argument(s) of type(s): (array(float64, 1d, C))\n",
      " * parameterized\n",
      "In definition 0:\n",
      "    TypingError: Failed in nopython mode pipeline (step: nopython frontend)\n",
      "Untyped global name 'f': cannot determine Numba type of <class 'function'>\n",
      "\n",
      "File \"<ipython-input-8-ee6d0c90dab3>\", line 3:\n",
      "def f_real(y):\n",
      "    val = f(y[0], y[1])\n",
      "    ^\n",
      "\n",
      "    raised from /home/jalenc/.conda/envs/ZMCIntegral/lib/python3.6/site-packages/numba/typeinfer.py:1180\n",
      "In definition 1:\n",
      "    TypingError: Failed in nopython mode pipeline (step: nopython frontend)\n",
      "Untyped global name 'f': cannot determine Numba type of <class 'function'>\n",
      "\n",
      "File \"<ipython-input-8-ee6d0c90dab3>\", line 3:\n",
      "def f_real(y):\n",
      "    val = f(y[0], y[1])\n",
      "    ^\n",
      "\n",
      "    raised from /home/jalenc/.conda/envs/ZMCIntegral/lib/python3.6/site-packages/numba/typeinfer.py:1180\n",
      "This error is usually caused by passing an argument of a type that is unsupported by the named function.\n",
      "[1] During: resolving callee type: Function(<numba.cuda.compiler.DeviceFunctionTemplate object at 0x7f74781eedd8>)\n",
      "[2] During: typing of call at /home/jalenc/github/my-phys-util/ZMCIntegral/ZMCIntegral.py (365)\n",
      "\n",
      "\n",
      "File \"ZMCIntegral.py\", line 365:\n",
      "        def integration_kernel(num_loops,                               MCresult,                               chunk_size,                               n_chunk_x,                               domain,                               domain_range,                               batch_size,                               i_batch,                               rng_states,                               n_chunk):\n",
      "            <source elided>\n",
      "                        # feed in values to user defined function\n",
      "                        cuda.atomic.add(MCresult, thread_id, fun(x_tuple))\n",
      "                        ^\n",
      "\n"
     ]
    },
    {
     "ename": "FileNotFoundError",
     "evalue": "[Errno 2] No such file or directory: '/home/jalenc/github/my-phys-util/ZMCIntegral/multi_temp/result0.npy'",
     "output_type": "error",
     "traceback": [
      "\u001b[0;31m---------------------------------------------------------------------------\u001b[0m",
      "\u001b[0;31mFileNotFoundError\u001b[0m                         Traceback (most recent call last)",
      "\u001b[0;32m<ipython-input-11-19322298e82f>\u001b[0m in \u001b[0;36m<module>\u001b[0;34m\u001b[0m\n\u001b[1;32m      1\u001b[0m \u001b[0;31m# Evaluating the integral\u001b[0m\u001b[0;34m\u001b[0m\u001b[0;34m\u001b[0m\u001b[0;34m\u001b[0m\u001b[0m\n\u001b[0;32m----> 2\u001b[0;31m \u001b[0mreal_result\u001b[0m \u001b[0;34m=\u001b[0m \u001b[0mMC_real\u001b[0m\u001b[0;34m.\u001b[0m\u001b[0mevaluate\u001b[0m\u001b[0;34m(\u001b[0m\u001b[0;34m)\u001b[0m\u001b[0;34m\u001b[0m\u001b[0;34m\u001b[0m\u001b[0m\n\u001b[0m\u001b[1;32m      3\u001b[0m \u001b[0mimag_result\u001b[0m \u001b[0;34m=\u001b[0m \u001b[0mMC_imag\u001b[0m\u001b[0;34m.\u001b[0m\u001b[0mevaluate\u001b[0m\u001b[0;34m(\u001b[0m\u001b[0;34m)\u001b[0m\u001b[0;34m\u001b[0m\u001b[0;34m\u001b[0m\u001b[0m\n",
      "\u001b[0;32m~/github/my-phys-util/ZMCIntegral/ZMCIntegral.py\u001b[0m in \u001b[0;36mevaluate\u001b[0;34m(self)\u001b[0m\n\u001b[1;32m     72\u001b[0m     \u001b[0;32mdef\u001b[0m \u001b[0mevaluate\u001b[0m\u001b[0;34m(\u001b[0m\u001b[0mself\u001b[0m\u001b[0;34m)\u001b[0m\u001b[0;34m:\u001b[0m\u001b[0;34m\u001b[0m\u001b[0;34m\u001b[0m\u001b[0m\n\u001b[1;32m     73\u001b[0m         \u001b[0mself\u001b[0m\u001b[0;34m.\u001b[0m\u001b[0mconfigure_chunks\u001b[0m\u001b[0;34m(\u001b[0m\u001b[0;34m)\u001b[0m\u001b[0;34m\u001b[0m\u001b[0;34m\u001b[0m\u001b[0m\n\u001b[0;32m---> 74\u001b[0;31m         \u001b[0mMCresult\u001b[0m \u001b[0;34m=\u001b[0m \u001b[0mself\u001b[0m\u001b[0;34m.\u001b[0m\u001b[0mimportance_sampling_iteration\u001b[0m\u001b[0;34m(\u001b[0m\u001b[0mself\u001b[0m\u001b[0;34m.\u001b[0m\u001b[0minitial_domain\u001b[0m\u001b[0;34m,\u001b[0m \u001b[0;36m0\u001b[0m\u001b[0;34m)\u001b[0m\u001b[0;34m\u001b[0m\u001b[0;34m\u001b[0m\u001b[0m\n\u001b[0m\u001b[1;32m     75\u001b[0m \u001b[0;34m\u001b[0m\u001b[0m\n\u001b[1;32m     76\u001b[0m         \u001b[0;32mreturn\u001b[0m \u001b[0mMCresult\u001b[0m\u001b[0;34m\u001b[0m\u001b[0;34m\u001b[0m\u001b[0m\n",
      "\u001b[0;32m~/github/my-phys-util/ZMCIntegral/ZMCIntegral.py\u001b[0m in \u001b[0;36mimportance_sampling_iteration\u001b[0;34m(self, domain, depth)\u001b[0m\n\u001b[1;32m     78\u001b[0m     \u001b[0;32mdef\u001b[0m \u001b[0mimportance_sampling_iteration\u001b[0m\u001b[0;34m(\u001b[0m\u001b[0mself\u001b[0m\u001b[0;34m,\u001b[0m \u001b[0mdomain\u001b[0m\u001b[0;34m,\u001b[0m \u001b[0mdepth\u001b[0m\u001b[0;34m)\u001b[0m\u001b[0;34m:\u001b[0m\u001b[0;34m\u001b[0m\u001b[0;34m\u001b[0m\u001b[0m\n\u001b[1;32m     79\u001b[0m         \u001b[0mdepth\u001b[0m \u001b[0;34m+=\u001b[0m \u001b[0;36m1\u001b[0m\u001b[0;34m\u001b[0m\u001b[0;34m\u001b[0m\u001b[0m\n\u001b[0;32m---> 80\u001b[0;31m         \u001b[0mMCresult_chunks\u001b[0m\u001b[0;34m,\u001b[0m \u001b[0mlarge_std_chunk_id\u001b[0m\u001b[0;34m,\u001b[0m \u001b[0mMCresult_std_chunks\u001b[0m \u001b[0;34m=\u001b[0m \u001b[0mself\u001b[0m\u001b[0;34m.\u001b[0m\u001b[0mMCevaluate\u001b[0m\u001b[0;34m(\u001b[0m\u001b[0mdomain\u001b[0m\u001b[0;34m)\u001b[0m\u001b[0;34m\u001b[0m\u001b[0;34m\u001b[0m\u001b[0m\n\u001b[0m\u001b[1;32m     81\u001b[0m         \u001b[0mprint\u001b[0m\u001b[0;34m(\u001b[0m\u001b[0;34m'{} hypercube(s) need(s) to be recalculated, to save time, try drastically increasing sigma_multiplication.'\u001b[0m\u001b[0;34m.\u001b[0m\u001b[0mformat\u001b[0m\u001b[0;34m(\u001b[0m\u001b[0mlen\u001b[0m\u001b[0;34m(\u001b[0m\u001b[0mlarge_std_chunk_id\u001b[0m\u001b[0;34m)\u001b[0m\u001b[0;34m)\u001b[0m\u001b[0;34m)\u001b[0m\u001b[0;34m\u001b[0m\u001b[0;34m\u001b[0m\u001b[0m\n\u001b[1;32m     82\u001b[0m         \u001b[0;32mif\u001b[0m \u001b[0mdepth\u001b[0m \u001b[0;34m<\u001b[0m \u001b[0mself\u001b[0m\u001b[0;34m.\u001b[0m\u001b[0mdepth\u001b[0m\u001b[0;34m:\u001b[0m\u001b[0;34m\u001b[0m\u001b[0;34m\u001b[0m\u001b[0m\n",
      "\u001b[0;32m~/github/my-phys-util/ZMCIntegral/ZMCIntegral.py\u001b[0m in \u001b[0;36mMCevaluate\u001b[0;34m(self, domain)\u001b[0m\n\u001b[1;32m    128\u001b[0m         \u001b[0mMCresult_std\u001b[0m \u001b[0;34m=\u001b[0m \u001b[0;34m[\u001b[0m\u001b[0;34m]\u001b[0m\u001b[0;34m\u001b[0m\u001b[0;34m\u001b[0m\u001b[0m\n\u001b[1;32m    129\u001b[0m         \u001b[0;32mfor\u001b[0m \u001b[0mi_batch\u001b[0m \u001b[0;32min\u001b[0m \u001b[0mrange\u001b[0m\u001b[0;34m(\u001b[0m\u001b[0mself\u001b[0m\u001b[0;34m.\u001b[0m\u001b[0mn_batches\u001b[0m\u001b[0;34m)\u001b[0m\u001b[0;34m:\u001b[0m\u001b[0;34m\u001b[0m\u001b[0;34m\u001b[0m\u001b[0m\n\u001b[0;32m--> 130\u001b[0;31m             \u001b[0mMCresult\u001b[0m\u001b[0;34m.\u001b[0m\u001b[0mappend\u001b[0m\u001b[0;34m(\u001b[0m\u001b[0mnp\u001b[0m\u001b[0;34m.\u001b[0m\u001b[0mload\u001b[0m\u001b[0;34m(\u001b[0m\u001b[0mos\u001b[0m\u001b[0;34m.\u001b[0m\u001b[0mgetcwd\u001b[0m\u001b[0;34m(\u001b[0m\u001b[0;34m)\u001b[0m\u001b[0;34m+\u001b[0m\u001b[0;34m'/multi_temp/result'\u001b[0m\u001b[0;34m+\u001b[0m\u001b[0mstr\u001b[0m\u001b[0;34m(\u001b[0m\u001b[0mi_batch\u001b[0m\u001b[0;34m)\u001b[0m\u001b[0;34m+\u001b[0m\u001b[0;34m'.npy'\u001b[0m\u001b[0;34m)\u001b[0m\u001b[0;34m)\u001b[0m\u001b[0;34m\u001b[0m\u001b[0;34m\u001b[0m\u001b[0m\n\u001b[0m\u001b[1;32m    131\u001b[0m             \u001b[0mMCresult_std\u001b[0m\u001b[0;34m.\u001b[0m\u001b[0mappend\u001b[0m\u001b[0;34m(\u001b[0m\u001b[0mnp\u001b[0m\u001b[0;34m.\u001b[0m\u001b[0mload\u001b[0m\u001b[0;34m(\u001b[0m\u001b[0mos\u001b[0m\u001b[0;34m.\u001b[0m\u001b[0mgetcwd\u001b[0m\u001b[0;34m(\u001b[0m\u001b[0;34m)\u001b[0m\u001b[0;34m+\u001b[0m\u001b[0;34m'/multi_temp/result_std'\u001b[0m\u001b[0;34m+\u001b[0m\u001b[0mstr\u001b[0m\u001b[0;34m(\u001b[0m\u001b[0mi_batch\u001b[0m\u001b[0;34m)\u001b[0m\u001b[0;34m+\u001b[0m\u001b[0;34m'.npy'\u001b[0m\u001b[0;34m)\u001b[0m\u001b[0;34m)\u001b[0m\u001b[0;34m\u001b[0m\u001b[0;34m\u001b[0m\u001b[0m\n\u001b[1;32m    132\u001b[0m \u001b[0;34m\u001b[0m\u001b[0m\n",
      "\u001b[0;32m~/.conda/envs/ZMCIntegral/lib/python3.6/site-packages/numpy/lib/npyio.py\u001b[0m in \u001b[0;36mload\u001b[0;34m(file, mmap_mode, allow_pickle, fix_imports, encoding)\u001b[0m\n\u001b[1;32m    420\u001b[0m         \u001b[0mown_fid\u001b[0m \u001b[0;34m=\u001b[0m \u001b[0;32mFalse\u001b[0m\u001b[0;34m\u001b[0m\u001b[0;34m\u001b[0m\u001b[0m\n\u001b[1;32m    421\u001b[0m     \u001b[0;32melse\u001b[0m\u001b[0;34m:\u001b[0m\u001b[0;34m\u001b[0m\u001b[0;34m\u001b[0m\u001b[0m\n\u001b[0;32m--> 422\u001b[0;31m         \u001b[0mfid\u001b[0m \u001b[0;34m=\u001b[0m \u001b[0mopen\u001b[0m\u001b[0;34m(\u001b[0m\u001b[0mos_fspath\u001b[0m\u001b[0;34m(\u001b[0m\u001b[0mfile\u001b[0m\u001b[0;34m)\u001b[0m\u001b[0;34m,\u001b[0m \u001b[0;34m\"rb\"\u001b[0m\u001b[0;34m)\u001b[0m\u001b[0;34m\u001b[0m\u001b[0;34m\u001b[0m\u001b[0m\n\u001b[0m\u001b[1;32m    423\u001b[0m         \u001b[0mown_fid\u001b[0m \u001b[0;34m=\u001b[0m \u001b[0;32mTrue\u001b[0m\u001b[0;34m\u001b[0m\u001b[0;34m\u001b[0m\u001b[0m\n\u001b[1;32m    424\u001b[0m \u001b[0;34m\u001b[0m\u001b[0m\n",
      "\u001b[0;31mFileNotFoundError\u001b[0m: [Errno 2] No such file or directory: '/home/jalenc/github/my-phys-util/ZMCIntegral/multi_temp/result0.npy'"
     ]
    }
   ],
   "source": [
    "# Evaluating the integral\n",
    "real_result = MC_real.evaluate()\n",
    "imag_result = MC_imag.evaluate()"
   ]
  },
  {
   "cell_type": "code",
   "execution_count": null,
   "metadata": {},
   "outputs": [],
   "source": [
    "print('\\n========================================================')\n",
    "print('Integration is complete!')\n",
    "print('\\n========================================================')\n",
    "print('REAL PART:')\n",
    "print('Result: ', real_result[0])\n",
    "print('std.  : ', real_result[1])\n",
    "print('IMAG PART:')\n",
    "print('Result: ', imag_result[0])\n",
    "print('std.  : ', imag_result[1])\n",
    "print('\\n========================================================')"
   ]
  }
 ],
 "metadata": {
  "kernelspec": {
   "display_name": "Python 3",
   "language": "python",
   "name": "python3"
  },
  "language_info": {
   "codemirror_mode": {
    "name": "ipython",
    "version": 3
   },
   "file_extension": ".py",
   "mimetype": "text/x-python",
   "name": "python",
   "nbconvert_exporter": "python",
   "pygments_lexer": "ipython3",
   "version": "3.6.8"
  }
 },
 "nbformat": 4,
 "nbformat_minor": 2
}
