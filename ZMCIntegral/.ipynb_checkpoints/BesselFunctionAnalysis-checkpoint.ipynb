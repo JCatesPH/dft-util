{
 "cells": [
  {
   "cell_type": "code",
   "execution_count": 19,
   "metadata": {},
   "outputs": [],
   "source": [
    "import time\n",
    "import math\n",
    "import numpy as np"
   ]
  },
  {
   "cell_type": "code",
   "execution_count": 26,
   "metadata": {},
   "outputs": [],
   "source": [
    "def my_Besselv(v, z):\n",
    "    m = 20\n",
    "    terms = np.empty(m)\n",
    "    diffs = np.empty(m-1)\n",
    "    # WILL NOT WORK IF v IS NOT AN INTEGER\n",
    "    # Conditional to handle case of negative v.\n",
    "    if(v < 0):\n",
    "        v = abs(v)\n",
    "        resultsign = (-1) ** v\n",
    "    else:\n",
    "        resultsign = 1\n",
    "    result = 0\n",
    "    # Loop to construct Bessel series sum.\n",
    "    for n in range(0,m):\n",
    "        sign = (-1)**n\n",
    "        exp = 2 * n + v\n",
    "        term = z ** exp\n",
    "        r = n + v + 1\n",
    "        if(r == 0):\n",
    "            r = 1e-15\n",
    "        gamma = int(math.gamma(r))\n",
    "        factorial = int(math.gamma(n+1))\n",
    "        twoexp = 2 ** exp\n",
    "        denom = twoexp * factorial * gamma\n",
    "        term = term / denom * sign\n",
    "        # print('for ', n, ': ',term)\n",
    "        result = result + term\n",
    "        terms[n] = term\n",
    "        \n",
    "    for n in range(1,m):\n",
    "        diffs[n-1] = terms[n-1] / terms[n]\n",
    "\n",
    "    print('terms = \\n', terms)\n",
    "    print('diffs = \\n', diffs)\n",
    "    return result * resultsign"
   ]
  },
  {
   "cell_type": "code",
   "execution_count": 27,
   "metadata": {},
   "outputs": [
    {
     "name": "stdout",
     "output_type": "stream",
     "text": [
      "terms = \n",
      " [ 1.00000000e+00 -5.54602500e+04  7.68959833e+08 -4.73852273e+12\n",
      "  1.64249784e+16 -3.64373364e+19  5.61339941e+22 -6.35348030e+25\n",
      "  5.50571259e+28 -3.76973082e+31  2.09070214e+34 -9.58271598e+36\n",
      "  3.69069322e+39 -1.21116431e+42  3.42711610e+44 -8.44749847e+46\n",
      "  1.83007960e+49 -3.51199557e+51  6.01160964e+53 -9.23560592e+55]\n",
      "diffs = \n",
      " [ 6.92128185e-310 -1.80309321e-005 -7.21237283e-005 -1.62278389e-004\n",
      " -2.88494913e-004 -4.50773302e-004 -6.49113554e-004 -8.83515671e-004\n",
      " -1.15397965e-003 -1.46050550e-003 -1.80309321e-003 -2.18174278e-003\n",
      " -2.59645422e-003 -3.04722752e-003 -3.53406268e-003 -4.05695971e-003\n",
      " -4.61591861e-003 -5.21093937e-003 -5.84202199e-003]\n",
      "-9.175839197000559e+55\n",
      "0.0037610530853271484\n"
     ]
    }
   ],
   "source": [
    "tic = time.time()\n",
    "c = my_Besselv(0,471)\n",
    "toc = time.time()\n",
    "\n",
    "print(c)\n",
    "print(toc-tic)"
   ]
  },
  {
   "cell_type": "code",
   "execution_count": null,
   "metadata": {},
   "outputs": [],
   "source": []
  }
 ],
 "metadata": {
  "kernelspec": {
   "display_name": "Python 3",
   "language": "python",
   "name": "python3"
  },
  "language_info": {
   "codemirror_mode": {
    "name": "ipython",
    "version": 3
   },
   "file_extension": ".py",
   "mimetype": "text/x-python",
   "name": "python",
   "nbconvert_exporter": "python",
   "pygments_lexer": "ipython3",
   "version": "3.6.8"
  }
 },
 "nbformat": 4,
 "nbformat_minor": 2
}
